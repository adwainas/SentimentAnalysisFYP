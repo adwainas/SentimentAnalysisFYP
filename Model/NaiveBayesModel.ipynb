{
 "cells": [
  {
   "cell_type": "code",
   "execution_count": 11,
   "source": [
    "import numpy as np\r\n",
    "import pandas as pd\r\n",
    "import nltk\r\n",
    "import string\r\n",
    "import re\r\n",
    "import matplotlib.pyplot as plt\r\n",
    "import matplotlib as mpl\r\n",
    "from nltk.tokenize import word_tokenize\r\n",
    "from sklearn.model_selection import train_test_split\r\n",
    "from sklearn.feature_extraction.text import CountVectorizer\r\n",
    "from sklearn.feature_extraction.text import TfidfTransformer\r\n",
    "from sklearn.metrics import confusion_matrix\r\n",
    "from sklearn.metrics import classification_report\r\n",
    "from sklearn import metrics\r\n",
    "from sklearn.metrics import roc_curve, auc\r\n",
    "from sklearn.naive_bayes import MultinomialNB\r\n",
    "from sklearn.naive_bayes import BernoulliNB\r\n",
    "from sklearn.naive_bayes import GaussianNB\r\n",
    "from sklearn.pipeline import Pipeline\r\n",
    "from sklearn.metrics import accuracy_score\r\n",
    "from sklearn.pipeline import FeatureUnion\r\n",
    "from sklearn.base import BaseEstimator, TransformerMixin\r\n",
    "from nltk.stem.porter import PorterStemmer\r\n",
    "from wordcloud import WordCloud, STOPWORDS\r\n",
    "import pymongo"
   ],
   "outputs": [],
   "metadata": {
    "collapsed": false
   }
  },
  {
   "cell_type": "code",
   "execution_count": 12,
   "source": [
    "#connect to the database MongoDB\r\n",
    "myclient = pymongo.MongoClient(\"mongodb://localhost:27017/\")\r\n",
    "mydb = myclient[\"Amazon\"]\r\n",
    "mycol = mydb[\"amazon_beauty\"]"
   ],
   "outputs": [],
   "metadata": {
    "collapsed": false
   }
  },
  {
   "cell_type": "code",
   "execution_count": 13,
   "source": [
    "#read dataset from mongoDB into dataframe\r\n",
    "df = pd.DataFrame(list(mycol.find()))"
   ],
   "outputs": [],
   "metadata": {
    "collapsed": true
   }
  },
  {
   "cell_type": "code",
   "execution_count": 14,
   "source": [
    "df.head()"
   ],
   "outputs": [
    {
     "output_type": "execute_result",
     "data": {
      "text/html": [
       "<div>\n",
       "<style scoped>\n",
       "    .dataframe tbody tr th:only-of-type {\n",
       "        vertical-align: middle;\n",
       "    }\n",
       "\n",
       "    .dataframe tbody tr th {\n",
       "        vertical-align: top;\n",
       "    }\n",
       "\n",
       "    .dataframe thead th {\n",
       "        text-align: right;\n",
       "    }\n",
       "</style>\n",
       "<table border=\"1\" class=\"dataframe\">\n",
       "  <thead>\n",
       "    <tr style=\"text-align: right;\">\n",
       "      <th></th>\n",
       "      <th>_id</th>\n",
       "      <th>marketplace</th>\n",
       "      <th>customer_id</th>\n",
       "      <th>review_id</th>\n",
       "      <th>product_id</th>\n",
       "      <th>product_parent</th>\n",
       "      <th>product_title</th>\n",
       "      <th>product_category</th>\n",
       "      <th>star_rating</th>\n",
       "      <th>helpful_votes</th>\n",
       "      <th>total_votes</th>\n",
       "      <th>vine</th>\n",
       "      <th>verified_purchase</th>\n",
       "      <th>review_headline</th>\n",
       "      <th>review_body</th>\n",
       "      <th>review_date</th>\n",
       "    </tr>\n",
       "  </thead>\n",
       "  <tbody>\n",
       "    <tr>\n",
       "      <th>0</th>\n",
       "      <td>611e6656728b844b7554f08d</td>\n",
       "      <td>US</td>\n",
       "      <td>1797882</td>\n",
       "      <td>R3I2DHQBR577SS</td>\n",
       "      <td>B001ANOOOE</td>\n",
       "      <td>2102612</td>\n",
       "      <td>The Naked Bee Vitmin C Moisturizing Sunscreen ...</td>\n",
       "      <td>Beauty</td>\n",
       "      <td>5.0</td>\n",
       "      <td>0.0</td>\n",
       "      <td>0.0</td>\n",
       "      <td>N</td>\n",
       "      <td>Y</td>\n",
       "      <td>Five Stars</td>\n",
       "      <td>Love this, excellent sun block!!</td>\n",
       "      <td>1970-01-01</td>\n",
       "    </tr>\n",
       "    <tr>\n",
       "      <th>1</th>\n",
       "      <td>611e6656728b844b7554f08e</td>\n",
       "      <td>US</td>\n",
       "      <td>18381298</td>\n",
       "      <td>R1QNE9NQFJC2Y4</td>\n",
       "      <td>B0016J22EQ</td>\n",
       "      <td>106393691</td>\n",
       "      <td>Alba Botanica Sunless Tanning Lotion, 4 Ounce</td>\n",
       "      <td>Beauty</td>\n",
       "      <td>5.0</td>\n",
       "      <td>0.0</td>\n",
       "      <td>0.0</td>\n",
       "      <td>N</td>\n",
       "      <td>Y</td>\n",
       "      <td>Thank you Alba Bontanica!</td>\n",
       "      <td>The great thing about this cream is that it do...</td>\n",
       "      <td>1970-01-01</td>\n",
       "    </tr>\n",
       "    <tr>\n",
       "      <th>2</th>\n",
       "      <td>611e6656728b844b7554f08f</td>\n",
       "      <td>US</td>\n",
       "      <td>19242472</td>\n",
       "      <td>R3LIDG2Q4LJBAO</td>\n",
       "      <td>B00HU6UQAG</td>\n",
       "      <td>375449471</td>\n",
       "      <td>Elysee Infusion Skin Therapy Elixir, 2oz.</td>\n",
       "      <td>Beauty</td>\n",
       "      <td>5.0</td>\n",
       "      <td>0.0</td>\n",
       "      <td>0.0</td>\n",
       "      <td>N</td>\n",
       "      <td>Y</td>\n",
       "      <td>Five Stars</td>\n",
       "      <td>Great Product, I'm 65 years old and this is al...</td>\n",
       "      <td>1970-01-01</td>\n",
       "    </tr>\n",
       "    <tr>\n",
       "      <th>3</th>\n",
       "      <td>611e6656728b844b7554f090</td>\n",
       "      <td>US</td>\n",
       "      <td>19551372</td>\n",
       "      <td>R3KSZHPAEVPEAL</td>\n",
       "      <td>B002HWS7RM</td>\n",
       "      <td>255651889</td>\n",
       "      <td>Diane D722 Color, Perm And Conditioner Process...</td>\n",
       "      <td>Beauty</td>\n",
       "      <td>5.0</td>\n",
       "      <td>0.0</td>\n",
       "      <td>0.0</td>\n",
       "      <td>N</td>\n",
       "      <td>Y</td>\n",
       "      <td>GOOD DEAL!</td>\n",
       "      <td>I use them as shower caps &amp; conditioning caps....</td>\n",
       "      <td>1970-01-01</td>\n",
       "    </tr>\n",
       "    <tr>\n",
       "      <th>4</th>\n",
       "      <td>611e6656728b844b7554f091</td>\n",
       "      <td>US</td>\n",
       "      <td>14802407</td>\n",
       "      <td>RAI2OIG50KZ43</td>\n",
       "      <td>B00SM99KWU</td>\n",
       "      <td>116158747</td>\n",
       "      <td>Biore UV Aqua Rich Watery Essence SPF50+/PA+++...</td>\n",
       "      <td>Beauty</td>\n",
       "      <td>5.0</td>\n",
       "      <td>0.0</td>\n",
       "      <td>0.0</td>\n",
       "      <td>N</td>\n",
       "      <td>Y</td>\n",
       "      <td>this soaks in quick and provides a nice base f...</td>\n",
       "      <td>This is my go-to daily sunblock. It leaves no ...</td>\n",
       "      <td>1970-01-01</td>\n",
       "    </tr>\n",
       "  </tbody>\n",
       "</table>\n",
       "</div>"
      ],
      "text/plain": [
       "                        _id marketplace customer_id       review_id  \\\n",
       "0  611e6656728b844b7554f08d          US     1797882  R3I2DHQBR577SS   \n",
       "1  611e6656728b844b7554f08e          US    18381298  R1QNE9NQFJC2Y4   \n",
       "2  611e6656728b844b7554f08f          US    19242472  R3LIDG2Q4LJBAO   \n",
       "3  611e6656728b844b7554f090          US    19551372  R3KSZHPAEVPEAL   \n",
       "4  611e6656728b844b7554f091          US    14802407   RAI2OIG50KZ43   \n",
       "\n",
       "   product_id product_parent  \\\n",
       "0  B001ANOOOE        2102612   \n",
       "1  B0016J22EQ      106393691   \n",
       "2  B00HU6UQAG      375449471   \n",
       "3  B002HWS7RM      255651889   \n",
       "4  B00SM99KWU      116158747   \n",
       "\n",
       "                                       product_title product_category  \\\n",
       "0  The Naked Bee Vitmin C Moisturizing Sunscreen ...           Beauty   \n",
       "1      Alba Botanica Sunless Tanning Lotion, 4 Ounce           Beauty   \n",
       "2          Elysee Infusion Skin Therapy Elixir, 2oz.           Beauty   \n",
       "3  Diane D722 Color, Perm And Conditioner Process...           Beauty   \n",
       "4  Biore UV Aqua Rich Watery Essence SPF50+/PA+++...           Beauty   \n",
       "\n",
       "   star_rating  helpful_votes  total_votes vine verified_purchase  \\\n",
       "0          5.0            0.0          0.0    N                 Y   \n",
       "1          5.0            0.0          0.0    N                 Y   \n",
       "2          5.0            0.0          0.0    N                 Y   \n",
       "3          5.0            0.0          0.0    N                 Y   \n",
       "4          5.0            0.0          0.0    N                 Y   \n",
       "\n",
       "                                     review_headline  \\\n",
       "0                                         Five Stars   \n",
       "1                          Thank you Alba Bontanica!   \n",
       "2                                         Five Stars   \n",
       "3                                         GOOD DEAL!   \n",
       "4  this soaks in quick and provides a nice base f...   \n",
       "\n",
       "                                         review_body review_date  \n",
       "0                   Love this, excellent sun block!!  1970-01-01  \n",
       "1  The great thing about this cream is that it do...  1970-01-01  \n",
       "2  Great Product, I'm 65 years old and this is al...  1970-01-01  \n",
       "3  I use them as shower caps & conditioning caps....  1970-01-01  \n",
       "4  This is my go-to daily sunblock. It leaves no ...  1970-01-01  "
      ]
     },
     "metadata": {},
     "execution_count": 14
    }
   ],
   "metadata": {
    "collapsed": false
   }
  },
  {
   "cell_type": "code",
   "execution_count": 15,
   "source": [
    "df = df[['_id', 'product_id', 'review_headline', 'star_rating']]\r\n",
    "df.head()"
   ],
   "outputs": [
    {
     "output_type": "execute_result",
     "data": {
      "text/html": [
       "<div>\n",
       "<style scoped>\n",
       "    .dataframe tbody tr th:only-of-type {\n",
       "        vertical-align: middle;\n",
       "    }\n",
       "\n",
       "    .dataframe tbody tr th {\n",
       "        vertical-align: top;\n",
       "    }\n",
       "\n",
       "    .dataframe thead th {\n",
       "        text-align: right;\n",
       "    }\n",
       "</style>\n",
       "<table border=\"1\" class=\"dataframe\">\n",
       "  <thead>\n",
       "    <tr style=\"text-align: right;\">\n",
       "      <th></th>\n",
       "      <th>_id</th>\n",
       "      <th>product_id</th>\n",
       "      <th>review_headline</th>\n",
       "      <th>star_rating</th>\n",
       "    </tr>\n",
       "  </thead>\n",
       "  <tbody>\n",
       "    <tr>\n",
       "      <th>0</th>\n",
       "      <td>611e6656728b844b7554f08d</td>\n",
       "      <td>B001ANOOOE</td>\n",
       "      <td>Five Stars</td>\n",
       "      <td>5.0</td>\n",
       "    </tr>\n",
       "    <tr>\n",
       "      <th>1</th>\n",
       "      <td>611e6656728b844b7554f08e</td>\n",
       "      <td>B0016J22EQ</td>\n",
       "      <td>Thank you Alba Bontanica!</td>\n",
       "      <td>5.0</td>\n",
       "    </tr>\n",
       "    <tr>\n",
       "      <th>2</th>\n",
       "      <td>611e6656728b844b7554f08f</td>\n",
       "      <td>B00HU6UQAG</td>\n",
       "      <td>Five Stars</td>\n",
       "      <td>5.0</td>\n",
       "    </tr>\n",
       "    <tr>\n",
       "      <th>3</th>\n",
       "      <td>611e6656728b844b7554f090</td>\n",
       "      <td>B002HWS7RM</td>\n",
       "      <td>GOOD DEAL!</td>\n",
       "      <td>5.0</td>\n",
       "    </tr>\n",
       "    <tr>\n",
       "      <th>4</th>\n",
       "      <td>611e6656728b844b7554f091</td>\n",
       "      <td>B00SM99KWU</td>\n",
       "      <td>this soaks in quick and provides a nice base f...</td>\n",
       "      <td>5.0</td>\n",
       "    </tr>\n",
       "  </tbody>\n",
       "</table>\n",
       "</div>"
      ],
      "text/plain": [
       "                        _id  product_id  \\\n",
       "0  611e6656728b844b7554f08d  B001ANOOOE   \n",
       "1  611e6656728b844b7554f08e  B0016J22EQ   \n",
       "2  611e6656728b844b7554f08f  B00HU6UQAG   \n",
       "3  611e6656728b844b7554f090  B002HWS7RM   \n",
       "4  611e6656728b844b7554f091  B00SM99KWU   \n",
       "\n",
       "                                     review_headline  star_rating  \n",
       "0                                         Five Stars          5.0  \n",
       "1                          Thank you Alba Bontanica!          5.0  \n",
       "2                                         Five Stars          5.0  \n",
       "3                                         GOOD DEAL!          5.0  \n",
       "4  this soaks in quick and provides a nice base f...          5.0  "
      ]
     },
     "metadata": {},
     "execution_count": 15
    }
   ],
   "metadata": {
    "collapsed": false
   }
  },
  {
   "cell_type": "code",
   "execution_count": 16,
   "source": [
    "df.info()\r\n",
    "print('\\nMissing values:  ', df.isnull().sum().values.sum())\r\n",
    "df.isnull().sum()"
   ],
   "outputs": [
    {
     "output_type": "stream",
     "name": "stdout",
     "text": [
      "<class 'pandas.core.frame.DataFrame'>\n",
      "RangeIndex: 1048575 entries, 0 to 1048574\n",
      "Data columns (total 4 columns):\n",
      " #   Column           Non-Null Count    Dtype  \n",
      "---  ------           --------------    -----  \n",
      " 0   _id              1048575 non-null  object \n",
      " 1   product_id       1048575 non-null  object \n",
      " 2   review_headline  1048483 non-null  object \n",
      " 3   star_rating      1048486 non-null  float64\n",
      "dtypes: float64(1), object(3)\n",
      "memory usage: 32.0+ MB\n",
      "\n",
      "Missing values:   181\n"
     ]
    },
    {
     "output_type": "execute_result",
     "data": {
      "text/plain": [
       "_id                 0\n",
       "product_id          0\n",
       "review_headline    92\n",
       "star_rating        89\n",
       "dtype: int64"
      ]
     },
     "metadata": {},
     "execution_count": 16
    }
   ],
   "metadata": {
    "collapsed": false
   }
  },
  {
   "cell_type": "code",
   "execution_count": 17,
   "source": [
    "#remove missing values NaN\r\n",
    "df = df.dropna()"
   ],
   "outputs": [],
   "metadata": {
    "collapsed": true
   }
  },
  {
   "cell_type": "code",
   "execution_count": 18,
   "source": [
    "df.info()\r\n",
    "print('\\nMissing values:  ', df.isnull().sum().values.sum())\r\n",
    "df.isnull().sum()"
   ],
   "outputs": [
    {
     "output_type": "stream",
     "name": "stdout",
     "text": [
      "<class 'pandas.core.frame.DataFrame'>\n",
      "Int64Index: 1048483 entries, 0 to 1048574\n",
      "Data columns (total 4 columns):\n",
      " #   Column           Non-Null Count    Dtype  \n",
      "---  ------           --------------    -----  \n",
      " 0   _id              1048483 non-null  object \n",
      " 1   product_id       1048483 non-null  object \n",
      " 2   review_headline  1048483 non-null  object \n",
      " 3   star_rating      1048483 non-null  float64\n",
      "dtypes: float64(1), object(3)\n",
      "memory usage: 40.0+ MB\n",
      "\n",
      "Missing values:   0\n"
     ]
    },
    {
     "output_type": "execute_result",
     "data": {
      "text/plain": [
       "_id                0\n",
       "product_id         0\n",
       "review_headline    0\n",
       "star_rating        0\n",
       "dtype: int64"
      ]
     },
     "metadata": {},
     "execution_count": 18
    }
   ],
   "metadata": {
    "collapsed": false
   }
  },
  {
   "cell_type": "code",
   "execution_count": 19,
   "source": [
    "#to remove row where star_rating = 3\r\n",
    "df = df.loc[df[\"star_rating\"] != 3]"
   ],
   "outputs": [],
   "metadata": {
    "collapsed": true
   }
  },
  {
   "cell_type": "code",
   "execution_count": 20,
   "source": [
    "df[\"sentiment\"] = df[\"star_rating\"].apply(lambda score: \"positive\" if score > 3 else \"negative\")"
   ],
   "outputs": [],
   "metadata": {
    "collapsed": true
   }
  },
  {
   "cell_type": "code",
   "execution_count": 21,
   "source": [
    "df.sentiment.value_counts()"
   ],
   "outputs": [
    {
     "output_type": "execute_result",
     "data": {
      "text/plain": [
       "positive    830541\n",
       "negative    140633\n",
       "Name: sentiment, dtype: int64"
      ]
     },
     "metadata": {},
     "execution_count": 21
    }
   ],
   "metadata": {
    "collapsed": false
   }
  },
  {
   "cell_type": "code",
   "execution_count": 22,
   "source": [
    "df.head()"
   ],
   "outputs": [
    {
     "output_type": "execute_result",
     "data": {
      "text/html": [
       "<div>\n",
       "<style scoped>\n",
       "    .dataframe tbody tr th:only-of-type {\n",
       "        vertical-align: middle;\n",
       "    }\n",
       "\n",
       "    .dataframe tbody tr th {\n",
       "        vertical-align: top;\n",
       "    }\n",
       "\n",
       "    .dataframe thead th {\n",
       "        text-align: right;\n",
       "    }\n",
       "</style>\n",
       "<table border=\"1\" class=\"dataframe\">\n",
       "  <thead>\n",
       "    <tr style=\"text-align: right;\">\n",
       "      <th></th>\n",
       "      <th>_id</th>\n",
       "      <th>product_id</th>\n",
       "      <th>review_headline</th>\n",
       "      <th>star_rating</th>\n",
       "      <th>sentiment</th>\n",
       "    </tr>\n",
       "  </thead>\n",
       "  <tbody>\n",
       "    <tr>\n",
       "      <th>0</th>\n",
       "      <td>611e6656728b844b7554f08d</td>\n",
       "      <td>B001ANOOOE</td>\n",
       "      <td>Five Stars</td>\n",
       "      <td>5.0</td>\n",
       "      <td>positive</td>\n",
       "    </tr>\n",
       "    <tr>\n",
       "      <th>1</th>\n",
       "      <td>611e6656728b844b7554f08e</td>\n",
       "      <td>B0016J22EQ</td>\n",
       "      <td>Thank you Alba Bontanica!</td>\n",
       "      <td>5.0</td>\n",
       "      <td>positive</td>\n",
       "    </tr>\n",
       "    <tr>\n",
       "      <th>2</th>\n",
       "      <td>611e6656728b844b7554f08f</td>\n",
       "      <td>B00HU6UQAG</td>\n",
       "      <td>Five Stars</td>\n",
       "      <td>5.0</td>\n",
       "      <td>positive</td>\n",
       "    </tr>\n",
       "    <tr>\n",
       "      <th>3</th>\n",
       "      <td>611e6656728b844b7554f090</td>\n",
       "      <td>B002HWS7RM</td>\n",
       "      <td>GOOD DEAL!</td>\n",
       "      <td>5.0</td>\n",
       "      <td>positive</td>\n",
       "    </tr>\n",
       "    <tr>\n",
       "      <th>4</th>\n",
       "      <td>611e6656728b844b7554f091</td>\n",
       "      <td>B00SM99KWU</td>\n",
       "      <td>this soaks in quick and provides a nice base f...</td>\n",
       "      <td>5.0</td>\n",
       "      <td>positive</td>\n",
       "    </tr>\n",
       "  </tbody>\n",
       "</table>\n",
       "</div>"
      ],
      "text/plain": [
       "                        _id  product_id  \\\n",
       "0  611e6656728b844b7554f08d  B001ANOOOE   \n",
       "1  611e6656728b844b7554f08e  B0016J22EQ   \n",
       "2  611e6656728b844b7554f08f  B00HU6UQAG   \n",
       "3  611e6656728b844b7554f090  B002HWS7RM   \n",
       "4  611e6656728b844b7554f091  B00SM99KWU   \n",
       "\n",
       "                                     review_headline  star_rating sentiment  \n",
       "0                                         Five Stars          5.0  positive  \n",
       "1                          Thank you Alba Bontanica!          5.0  positive  \n",
       "2                                         Five Stars          5.0  positive  \n",
       "3                                         GOOD DEAL!          5.0  positive  \n",
       "4  this soaks in quick and provides a nice base f...          5.0  positive  "
      ]
     },
     "metadata": {},
     "execution_count": 22
    }
   ],
   "metadata": {
    "collapsed": false
   }
  },
  {
   "cell_type": "code",
   "execution_count": 23,
   "source": [
    "regEx = re.compile('[^a-z]+')\r\n",
    "def preprocessing(reviews):\r\n",
    "    \r\n",
    "    reviews = reviews.lower()                                             # Lowercases the string\r\n",
    "    reviews = re.sub('((www\\.[^\\s]+)|(https?://[^\\s]+))', ' ', reviews)   # Remove URLs\r\n",
    "    reviews = re.sub(r\"\\d+\", \" \", str(reviews))                           # Removes all digits\r\n",
    "    reviews = re.sub(r\"[^\\w\\s]\", \" \", str(reviews))                       # Removes all punctuations\r\n",
    "    reviews = re.sub(r\"\\s+\", \" \", str(reviews))                           # Replaces double spaces with single space\r\n",
    "    reviews = regEx.sub(' ', reviews).strip()\r\n",
    "    \r\n",
    "    return reviews\r\n",
    "\r\n",
    "df[\"review_clean\"] = df[\"review_headline\"].apply(preprocessing)\r\n",
    "df.head()"
   ],
   "outputs": [
    {
     "output_type": "execute_result",
     "data": {
      "text/html": [
       "<div>\n",
       "<style scoped>\n",
       "    .dataframe tbody tr th:only-of-type {\n",
       "        vertical-align: middle;\n",
       "    }\n",
       "\n",
       "    .dataframe tbody tr th {\n",
       "        vertical-align: top;\n",
       "    }\n",
       "\n",
       "    .dataframe thead th {\n",
       "        text-align: right;\n",
       "    }\n",
       "</style>\n",
       "<table border=\"1\" class=\"dataframe\">\n",
       "  <thead>\n",
       "    <tr style=\"text-align: right;\">\n",
       "      <th></th>\n",
       "      <th>_id</th>\n",
       "      <th>product_id</th>\n",
       "      <th>review_headline</th>\n",
       "      <th>star_rating</th>\n",
       "      <th>sentiment</th>\n",
       "      <th>review_clean</th>\n",
       "    </tr>\n",
       "  </thead>\n",
       "  <tbody>\n",
       "    <tr>\n",
       "      <th>0</th>\n",
       "      <td>611e6656728b844b7554f08d</td>\n",
       "      <td>B001ANOOOE</td>\n",
       "      <td>Five Stars</td>\n",
       "      <td>5.0</td>\n",
       "      <td>positive</td>\n",
       "      <td>five stars</td>\n",
       "    </tr>\n",
       "    <tr>\n",
       "      <th>1</th>\n",
       "      <td>611e6656728b844b7554f08e</td>\n",
       "      <td>B0016J22EQ</td>\n",
       "      <td>Thank you Alba Bontanica!</td>\n",
       "      <td>5.0</td>\n",
       "      <td>positive</td>\n",
       "      <td>thank you alba bontanica</td>\n",
       "    </tr>\n",
       "    <tr>\n",
       "      <th>2</th>\n",
       "      <td>611e6656728b844b7554f08f</td>\n",
       "      <td>B00HU6UQAG</td>\n",
       "      <td>Five Stars</td>\n",
       "      <td>5.0</td>\n",
       "      <td>positive</td>\n",
       "      <td>five stars</td>\n",
       "    </tr>\n",
       "    <tr>\n",
       "      <th>3</th>\n",
       "      <td>611e6656728b844b7554f090</td>\n",
       "      <td>B002HWS7RM</td>\n",
       "      <td>GOOD DEAL!</td>\n",
       "      <td>5.0</td>\n",
       "      <td>positive</td>\n",
       "      <td>good deal</td>\n",
       "    </tr>\n",
       "    <tr>\n",
       "      <th>4</th>\n",
       "      <td>611e6656728b844b7554f091</td>\n",
       "      <td>B00SM99KWU</td>\n",
       "      <td>this soaks in quick and provides a nice base f...</td>\n",
       "      <td>5.0</td>\n",
       "      <td>positive</td>\n",
       "      <td>this soaks in quick and provides a nice base f...</td>\n",
       "    </tr>\n",
       "  </tbody>\n",
       "</table>\n",
       "</div>"
      ],
      "text/plain": [
       "                        _id  product_id  \\\n",
       "0  611e6656728b844b7554f08d  B001ANOOOE   \n",
       "1  611e6656728b844b7554f08e  B0016J22EQ   \n",
       "2  611e6656728b844b7554f08f  B00HU6UQAG   \n",
       "3  611e6656728b844b7554f090  B002HWS7RM   \n",
       "4  611e6656728b844b7554f091  B00SM99KWU   \n",
       "\n",
       "                                     review_headline  star_rating sentiment  \\\n",
       "0                                         Five Stars          5.0  positive   \n",
       "1                          Thank you Alba Bontanica!          5.0  positive   \n",
       "2                                         Five Stars          5.0  positive   \n",
       "3                                         GOOD DEAL!          5.0  positive   \n",
       "4  this soaks in quick and provides a nice base f...          5.0  positive   \n",
       "\n",
       "                                        review_clean  \n",
       "0                                         five stars  \n",
       "1                           thank you alba bontanica  \n",
       "2                                         five stars  \n",
       "3                                          good deal  \n",
       "4  this soaks in quick and provides a nice base f...  "
      ]
     },
     "metadata": {},
     "execution_count": 23
    }
   ],
   "metadata": {
    "collapsed": false
   }
  },
  {
   "cell_type": "code",
   "execution_count": 24,
   "source": [
    "train, test = train_test_split(df, test_size=0.2)\r\n",
    "print(\"%d items in training data, %d in test data\" % (len(train), len(test)))"
   ],
   "outputs": [
    {
     "output_type": "stream",
     "name": "stdout",
     "text": [
      "776939 items in training data, 194235 in test data\n"
     ]
    }
   ],
   "metadata": {
    "collapsed": false
   }
  },
  {
   "cell_type": "code",
   "execution_count": 25,
   "source": [
    "countVector = CountVectorizer(min_df = 1, ngram_range = (1, 2))\r\n",
    "X_train_counts = countVector.fit_transform(train[\"review_clean\"])\r\n",
    "\r\n",
    "#applying tfidf to term frequency\r\n",
    "tfidf_transformer = TfidfTransformer()\r\n",
    "X_train_tfidf = tfidf_transformer.fit_transform(X_train_counts)\r\n",
    "\r\n",
    "X_new_counts = countVector.transform(test[\"review_clean\"])\r\n",
    "X_test_tfidf = tfidf_transformer.transform(X_new_counts)\r\n",
    "\r\n",
    "y_train = train[\"sentiment\"]\r\n",
    "y_test = test[\"sentiment\"]\r\n",
    "\r\n",
    "prediction = dict()"
   ],
   "outputs": [],
   "metadata": {
    "collapsed": true
   }
  },
  {
   "cell_type": "code",
   "execution_count": 26,
   "source": [
    "# print idf values \r\n",
    "df_idf = pd.DataFrame(tfidf_transformer.idf_, index=countVector.get_feature_names(),columns=[\"idf_weights\"]) \r\n",
    " \r\n",
    "# sort ascending \r\n",
    "df_idf.sort_values(by=['idf_weights'])"
   ],
   "outputs": [
    {
     "output_type": "execute_result",
     "data": {
      "text/html": [
       "<div>\n",
       "<style scoped>\n",
       "    .dataframe tbody tr th:only-of-type {\n",
       "        vertical-align: middle;\n",
       "    }\n",
       "\n",
       "    .dataframe tbody tr th {\n",
       "        vertical-align: top;\n",
       "    }\n",
       "\n",
       "    .dataframe thead th {\n",
       "        text-align: right;\n",
       "    }\n",
       "</style>\n",
       "<table border=\"1\" class=\"dataframe\">\n",
       "  <thead>\n",
       "    <tr style=\"text-align: right;\">\n",
       "      <th></th>\n",
       "      <th>idf_weights</th>\n",
       "    </tr>\n",
       "  </thead>\n",
       "  <tbody>\n",
       "    <tr>\n",
       "      <th>stars</th>\n",
       "      <td>2.091997</td>\n",
       "    </tr>\n",
       "    <tr>\n",
       "      <th>five</th>\n",
       "      <td>2.306438</td>\n",
       "    </tr>\n",
       "    <tr>\n",
       "      <th>five stars</th>\n",
       "      <td>2.307313</td>\n",
       "    </tr>\n",
       "    <tr>\n",
       "      <th>great</th>\n",
       "      <td>3.300168</td>\n",
       "    </tr>\n",
       "    <tr>\n",
       "      <th>it</th>\n",
       "      <td>3.332781</td>\n",
       "    </tr>\n",
       "    <tr>\n",
       "      <th>...</th>\n",
       "      <td>...</td>\n",
       "    </tr>\n",
       "    <tr>\n",
       "      <th>be shortened</th>\n",
       "      <td>13.869971</td>\n",
       "    </tr>\n",
       "    <tr>\n",
       "      <th>ladies saw</th>\n",
       "      <td>13.869971</td>\n",
       "    </tr>\n",
       "    <tr>\n",
       "      <th>ladies save</th>\n",
       "      <td>13.869971</td>\n",
       "    </tr>\n",
       "    <tr>\n",
       "      <th>ladies that</th>\n",
       "      <td>13.869971</td>\n",
       "    </tr>\n",
       "    <tr>\n",
       "      <th>zzzzzzzzz</th>\n",
       "      <td>13.869971</td>\n",
       "    </tr>\n",
       "  </tbody>\n",
       "</table>\n",
       "<p>418019 rows × 1 columns</p>\n",
       "</div>"
      ],
      "text/plain": [
       "              idf_weights\n",
       "stars            2.091997\n",
       "five             2.306438\n",
       "five stars       2.307313\n",
       "great            3.300168\n",
       "it               3.332781\n",
       "...                   ...\n",
       "be shortened    13.869971\n",
       "ladies saw      13.869971\n",
       "ladies save     13.869971\n",
       "ladies that     13.869971\n",
       "zzzzzzzzz       13.869971\n",
       "\n",
       "[418019 rows x 1 columns]"
      ]
     },
     "metadata": {},
     "execution_count": 26
    }
   ],
   "metadata": {
    "collapsed": false
   }
  },
  {
   "cell_type": "markdown",
   "source": [
    "# Multinomial Naive Bayes Training and Testing"
   ],
   "metadata": {}
  },
  {
   "cell_type": "code",
   "execution_count": 27,
   "source": [
    "multinomial = MultinomialNB()\r\n",
    "multinomial_result = multinomial.fit(X_train_tfidf, y_train)\r\n",
    "prediction['Multinomial'] = multinomial.predict(X_test_tfidf)"
   ],
   "outputs": [],
   "metadata": {
    "collapsed": true
   }
  },
  {
   "cell_type": "code",
   "execution_count": 28,
   "source": [
    "print(metrics.classification_report(y_test, prediction['Multinomial'], target_names = [\"positive\", \"negative\"]))"
   ],
   "outputs": [
    {
     "output_type": "stream",
     "name": "stdout",
     "text": [
      "              precision    recall  f1-score   support\n",
      "\n",
      "    positive       0.96      0.63      0.76     28057\n",
      "    negative       0.94      1.00      0.97    166178\n",
      "\n",
      "    accuracy                           0.94    194235\n",
      "   macro avg       0.95      0.81      0.87    194235\n",
      "weighted avg       0.94      0.94      0.94    194235\n",
      "\n"
     ]
    }
   ],
   "metadata": {
    "collapsed": false
   }
  },
  {
   "cell_type": "code",
   "execution_count": 29,
   "source": [
    "accuracy_score(y_test, prediction['Multinomial'])"
   ],
   "outputs": [
    {
     "output_type": "execute_result",
     "data": {
      "text/plain": [
       "0.9432748989625969"
      ]
     },
     "metadata": {},
     "execution_count": 29
    }
   ],
   "metadata": {
    "collapsed": false
   }
  },
  {
   "cell_type": "code",
   "execution_count": 30,
   "source": [
    "def plot_confusion_matrix(matrix, title='Confusion matrix', cmap=plt.cm.Blues, labels=[\"positive\", \"negative\"]):\r\n",
    "    plt.imshow(matrix, interpolation='nearest', cmap=cmap)\r\n",
    "    plt.title(title)\r\n",
    "    plt.colorbar()\r\n",
    "    tick_marks = np.arange(len(labels))\r\n",
    "    plt.xticks(tick_marks, labels, rotation=45)\r\n",
    "    plt.yticks(tick_marks, labels)\r\n",
    "    plt.tight_layout()\r\n",
    "    plt.ylabel('True label')\r\n",
    "    plt.xlabel('Predicted label')\r\n",
    "\r\n",
    "# Compute confusion matrix\r\n",
    "matrix = confusion_matrix(y_test, prediction['Multinomial'])\r\n",
    "np.set_printoptions(precision=2)\r\n",
    "plt.figure()\r\n",
    "plot_confusion_matrix(matrix)  \r\n",
    "print('Confusion matrix : \\n',matrix)"
   ],
   "outputs": [
    {
     "output_type": "stream",
     "name": "stdout",
     "text": [
      "Confusion matrix : \n",
      " [[ 17712  10345]\n",
      " [   673 165505]]\n"
     ]
    },
    {
     "output_type": "display_data",
     "data": {
      "image/png": "[encoded data removed]",
      "text/plain": [
       "<Figure size 432x288 with 2 Axes>"
      ]
     },
     "metadata": {
      "needs_background": "light"
     }
    }
   ],
   "metadata": {
    "collapsed": false
   }
  },
  {
   "cell_type": "markdown",
   "source": [
    "# Bernoulli Naive Bayes Training and Testing"
   ],
   "metadata": {}
  },
  {
   "cell_type": "code",
   "execution_count": 31,
   "source": [
    "bernoulli = BernoulliNB()\r\n",
    "bernoulli_result = bernoulli.fit(X_train_tfidf, y_train)\r\n",
    "prediction['Bernoulli'] = bernoulli.predict(X_test_tfidf)"
   ],
   "outputs": [],
   "metadata": {
    "collapsed": true
   }
  },
  {
   "cell_type": "code",
   "execution_count": 32,
   "source": [
    "print(metrics.classification_report(y_test, prediction['Bernoulli'], target_names = [\"positive\", \"negative\"]))"
   ],
   "outputs": [
    {
     "output_type": "stream",
     "name": "stdout",
     "text": [
      "              precision    recall  f1-score   support\n",
      "\n",
      "    positive       0.76      0.75      0.75     28057\n",
      "    negative       0.96      0.96      0.96    166178\n",
      "\n",
      "    accuracy                           0.93    194235\n",
      "   macro avg       0.86      0.85      0.86    194235\n",
      "weighted avg       0.93      0.93      0.93    194235\n",
      "\n"
     ]
    }
   ],
   "metadata": {
    "collapsed": false
   }
  },
  {
   "cell_type": "code",
   "execution_count": 33,
   "source": [
    "accuracy_score(y_test, prediction['Bernoulli'])"
   ],
   "outputs": [
    {
     "output_type": "execute_result",
     "data": {
      "text/plain": [
       "0.9299920199758025"
      ]
     },
     "metadata": {},
     "execution_count": 33
    }
   ],
   "metadata": {
    "collapsed": false
   }
  },
  {
   "cell_type": "code",
   "execution_count": 34,
   "source": [
    "def plot_confusion_matrix(matrix, title='Confusion matrix', cmap=plt.cm.Blues, labels=[\"positive\", \"negative\"]):\r\n",
    "    plt.imshow(matrix, interpolation='nearest', cmap=cmap)\r\n",
    "    plt.title(title)\r\n",
    "    plt.colorbar()\r\n",
    "    tick_marks = np.arange(len(labels))\r\n",
    "    plt.xticks(tick_marks, labels, rotation=45)\r\n",
    "    plt.yticks(tick_marks, labels)\r\n",
    "    plt.tight_layout()\r\n",
    "    plt.ylabel('True label')\r\n",
    "    plt.xlabel('Predicted label')\r\n",
    "    \r\n",
    "# Compute confusion matrix\r\n",
    "matrix = confusion_matrix(y_test, prediction['Bernoulli'])\r\n",
    "np.set_printoptions(precision=2)\r\n",
    "plt.figure()\r\n",
    "plot_confusion_matrix(matrix)    \r\n",
    "print('Confusion matrix : \\n',matrix)"
   ],
   "outputs": [
    {
     "output_type": "stream",
     "name": "stdout",
     "text": [
      "Confusion matrix : \n",
      " [[ 20931   7126]\n",
      " [  6472 159706]]\n"
     ]
    },
    {
     "output_type": "display_data",
     "data": {
      "image/png": "[encoded data removed]",
      "text/plain": [
       "<Figure size 432x288 with 2 Axes>"
      ]
     },
     "metadata": {
      "needs_background": "light"
     }
    }
   ],
   "metadata": {
    "collapsed": false
   }
  },
  {
   "cell_type": "code",
   "execution_count": 35,
   "source": [
    "def formatt(x):\r\n",
    "    if x == 'negative':\r\n",
    "        return 0\r\n",
    "    return 1\r\n",
    "vfunc = np.vectorize(formatt)\r\n",
    "\r\n",
    "cmp = 0\r\n",
    "colors = ['b', 'g', 'y', 'm', 'k']\r\n",
    "for model, predicted in prediction.items():\r\n",
    "    false_positive_rate, true_positive_rate, thresholds = roc_curve(y_test.map(formatt), vfunc(predicted))\r\n",
    "    roc_auc = auc(false_positive_rate, true_positive_rate)\r\n",
    "    plt.plot(false_positive_rate, true_positive_rate, colors[cmp], label='%s: AUC %0.2f'% (model,roc_auc))\r\n",
    "    cmp += 1\r\n",
    "\r\n",
    "plt.title('Classifiers comparison with ROC')\r\n",
    "plt.legend(loc='lower right')\r\n",
    "plt.plot([0,1],[0,1],'r--')\r\n",
    "plt.xlim([-0.1,1.2])\r\n",
    "plt.ylim([-0.1,1.2])\r\n",
    "plt.ylabel('True Positive Rate')\r\n",
    "plt.xlabel('False Positive Rate')\r\n",
    "plt.show()"
   ],
   "outputs": [
    {
     "output_type": "display_data",
     "data": {
      "image/png": "[encoded data removed]",
      "text/plain": [
       "<Figure size 432x288 with 1 Axes>"
      ]
     },
     "metadata": {
      "needs_background": "light"
     }
    }
   ],
   "metadata": {
    "collapsed": false
   }
  },
  {
   "cell_type": "markdown",
   "source": [
    "# Testing using Multinomial Naive Bayes Model"
   ],
   "metadata": {}
  },
  {
   "cell_type": "code",
   "execution_count": 36,
   "source": [
    "def testSentiments(model, testData):\r\n",
    "    testCounts = countVector.transform([testData])\r\n",
    "    testTfidf = tfidf_transformer.transform(testCounts)\r\n",
    "    result = model.predict(testTfidf)[0]\r\n",
    "    probability = model.predict_proba(testTfidf)[0]\r\n",
    "    print(\"Sample estimated as %s: negative prob %f, positive prob %f\" % (result.upper(), probability[0], probability[1]))\r\n",
    "\r\n",
    "testSentiments(multinomial, \" I LOVE this mascara\")\r\n",
    "testSentiments(multinomial, \"AMAZING VOLUME!\")\r\n",
    "testSentiments(multinomial, \"Mascara is bad and runs resulting in Horrible raccoon eyes.\")"
   ],
   "outputs": [
    {
     "output_type": "stream",
     "name": "stdout",
     "text": [
      "Sample estimated as POSITIVE: negative prob 0.002758, positive prob 0.997242\n",
      "Sample estimated as POSITIVE: negative prob 0.007576, positive prob 0.992424\n",
      "Sample estimated as NEGATIVE: negative prob 0.769565, positive prob 0.230435\n"
     ]
    }
   ],
   "metadata": {
    "collapsed": false
   }
  },
  {
   "cell_type": "code",
   "execution_count": 37,
   "source": [
    "test['predict'] = prediction['Multinomial']"
   ],
   "outputs": [
    {
     "output_type": "stream",
     "name": "stderr",
     "text": [
      "C:\\Users\\HP\\AppData\\Local\\Programs\\Python\\Python36\\lib\\site-packages\\ipykernel_launcher.py:1: SettingWithCopyWarning: \n",
      "A value is trying to be set on a copy of a slice from a DataFrame.\n",
      "Try using .loc[row_indexer,col_indexer] = value instead\n",
      "\n",
      "See the caveats in the documentation: https://pandas.pydata.org/pandas-docs/stable/user_guide/indexing.html#returning-a-view-versus-a-copy\n",
      "  \"\"\"Entry point for launching an IPython kernel.\n"
     ]
    }
   ],
   "metadata": {
    "collapsed": false
   }
  },
  {
   "cell_type": "code",
   "execution_count": 38,
   "source": [
    "test.head()"
   ],
   "outputs": [
    {
     "output_type": "execute_result",
     "data": {
      "text/html": [
       "<div>\n",
       "<style scoped>\n",
       "    .dataframe tbody tr th:only-of-type {\n",
       "        vertical-align: middle;\n",
       "    }\n",
       "\n",
       "    .dataframe tbody tr th {\n",
       "        vertical-align: top;\n",
       "    }\n",
       "\n",
       "    .dataframe thead th {\n",
       "        text-align: right;\n",
       "    }\n",
       "</style>\n",
       "<table border=\"1\" class=\"dataframe\">\n",
       "  <thead>\n",
       "    <tr style=\"text-align: right;\">\n",
       "      <th></th>\n",
       "      <th>_id</th>\n",
       "      <th>product_id</th>\n",
       "      <th>review_headline</th>\n",
       "      <th>star_rating</th>\n",
       "      <th>sentiment</th>\n",
       "      <th>review_clean</th>\n",
       "      <th>predict</th>\n",
       "    </tr>\n",
       "  </thead>\n",
       "  <tbody>\n",
       "    <tr>\n",
       "      <th>35821</th>\n",
       "      <td>611e6659728b844b75557c7a</td>\n",
       "      <td>B006UET4XE</td>\n",
       "      <td>Four Stars</td>\n",
       "      <td>4.0</td>\n",
       "      <td>positive</td>\n",
       "      <td>four stars</td>\n",
       "      <td>positive</td>\n",
       "    </tr>\n",
       "    <tr>\n",
       "      <th>967944</th>\n",
       "      <td>611e66a3728b844b7563b595</td>\n",
       "      <td>B00TJ0CQZE</td>\n",
       "      <td>He followed the easy to understand instructions</td>\n",
       "      <td>5.0</td>\n",
       "      <td>positive</td>\n",
       "      <td>he followed the easy to understand instructions</td>\n",
       "      <td>positive</td>\n",
       "    </tr>\n",
       "    <tr>\n",
       "      <th>116679</th>\n",
       "      <td>611e665f728b844b7556b854</td>\n",
       "      <td>B006GQYSC8</td>\n",
       "      <td>Four Stars</td>\n",
       "      <td>4.0</td>\n",
       "      <td>positive</td>\n",
       "      <td>four stars</td>\n",
       "      <td>positive</td>\n",
       "    </tr>\n",
       "    <tr>\n",
       "      <th>436602</th>\n",
       "      <td>611e667a728b844b755b9a07</td>\n",
       "      <td>B00HQ2RB34</td>\n",
       "      <td>Five Stars</td>\n",
       "      <td>5.0</td>\n",
       "      <td>positive</td>\n",
       "      <td>five stars</td>\n",
       "      <td>positive</td>\n",
       "    </tr>\n",
       "    <tr>\n",
       "      <th>881312</th>\n",
       "      <td>611e669c728b844b7562632d</td>\n",
       "      <td>B00LLMB3W0</td>\n",
       "      <td>Great product for lashes others will notice.</td>\n",
       "      <td>5.0</td>\n",
       "      <td>positive</td>\n",
       "      <td>great product for lashes others will notice</td>\n",
       "      <td>positive</td>\n",
       "    </tr>\n",
       "  </tbody>\n",
       "</table>\n",
       "</div>"
      ],
      "text/plain": [
       "                             _id  product_id  \\\n",
       "35821   611e6659728b844b75557c7a  B006UET4XE   \n",
       "967944  611e66a3728b844b7563b595  B00TJ0CQZE   \n",
       "116679  611e665f728b844b7556b854  B006GQYSC8   \n",
       "436602  611e667a728b844b755b9a07  B00HQ2RB34   \n",
       "881312  611e669c728b844b7562632d  B00LLMB3W0   \n",
       "\n",
       "                                        review_headline  star_rating  \\\n",
       "35821                                        Four Stars          4.0   \n",
       "967944  He followed the easy to understand instructions          5.0   \n",
       "116679                                       Four Stars          4.0   \n",
       "436602                                       Five Stars          5.0   \n",
       "881312     Great product for lashes others will notice.          5.0   \n",
       "\n",
       "       sentiment                                     review_clean   predict  \n",
       "35821   positive                                       four stars  positive  \n",
       "967944  positive  he followed the easy to understand instructions  positive  \n",
       "116679  positive                                       four stars  positive  \n",
       "436602  positive                                       five stars  positive  \n",
       "881312  positive      great product for lashes others will notice  positive  "
      ]
     },
     "metadata": {},
     "execution_count": 38
    }
   ],
   "metadata": {
    "collapsed": false
   }
  },
  {
   "cell_type": "code",
   "execution_count": 39,
   "source": [
    "test.predict.value_counts()"
   ],
   "outputs": [
    {
     "output_type": "execute_result",
     "data": {
      "text/plain": [
       "positive    175850\n",
       "negative     18385\n",
       "Name: predict, dtype: int64"
      ]
     },
     "metadata": {},
     "execution_count": 39
    }
   ],
   "metadata": {
    "collapsed": false
   }
  },
  {
   "cell_type": "code",
   "execution_count": 40,
   "source": [
    "test.product_id.value_counts()"
   ],
   "outputs": [
    {
     "output_type": "execute_result",
     "data": {
      "text/plain": [
       "B001MA0QY2    637\n",
       "B0049LUI9O    287\n",
       "B00DPE9EQO    228\n",
       "B00016XJ4M    227\n",
       "B00SMIIR0W    219\n",
       "             ... \n",
       "B00HRG544M      1\n",
       "B0001D6KXC      1\n",
       "B00M0S96Z0      1\n",
       "B00S6XI6H2      1\n",
       "B00J4QH7DO      1\n",
       "Name: product_id, Length: 81217, dtype: int64"
      ]
     },
     "metadata": {},
     "execution_count": 40
    }
   ],
   "metadata": {
    "collapsed": false
   }
  },
  {
   "cell_type": "code",
   "execution_count": 41,
   "source": [
    "sentiment_count = test.groupby('predict').count()\r\n",
    "sentiment_sum = sum(sentiment_count.review_clean)\r\n",
    "sentiment_count.review_clean = (sentiment_count*100/sentiment_sum).round(2)\r\n",
    "sentiment_count.review_clean"
   ],
   "outputs": [
    {
     "output_type": "execute_result",
     "data": {
      "text/plain": [
       "predict\n",
       "negative     9.47\n",
       "positive    90.53\n",
       "Name: review_clean, dtype: float64"
      ]
     },
     "metadata": {},
     "execution_count": 41
    }
   ],
   "metadata": {
    "collapsed": false
   }
  },
  {
   "cell_type": "code",
   "execution_count": 42,
   "source": [
    "sentiment = ['positive', 'negative']\r\n",
    "percentage = [90.54, 9.46]\r\n",
    "\r\n",
    "fig = plt.figure()\r\n",
    "ax = fig.add_axes([0,0,1,1])\r\n",
    "ax.bar(sentiment,percentage)\r\n",
    "plt.ylabel('Percentage')\r\n",
    "plt.xlabel('Sentiment')\r\n",
    "plt.show()"
   ],
   "outputs": [
    {
     "output_type": "display_data",
     "data": {
      "image/png": "[encoded data removed]",
      "text/plain": [
       "<Figure size 432x288 with 1 Axes>"
      ]
     },
     "metadata": {
      "needs_background": "light"
     }
    }
   ],
   "metadata": {
    "collapsed": false
   }
  },
  {
   "cell_type": "code",
   "execution_count": 43,
   "source": [
    "#test.to_csv('multitesting_dataset.csv')"
   ],
   "outputs": [],
   "metadata": {
    "collapsed": true
   }
  }
 ],
 "metadata": {
  "interpreter": {
   "hash": "fa8dac6680f64e1fe1addd29e113e105eab44a47d6ab362be4951d8845d23063"
  },
  "kernelspec": {
   "name": "python3",
   "display_name": "Python 3.6.5 64-bit"
  },
  "language_info": {
   "codemirror_mode": {
    "name": "ipython",
    "version": 3
   },
   "file_extension": ".py",
   "mimetype": "text/x-python",
   "name": "python",
   "nbconvert_exporter": "python",
   "pygments_lexer": "ipython3",
   "version": "3.6.5"
  }
 },
 "nbformat": 4,
 "nbformat_minor": 2
}